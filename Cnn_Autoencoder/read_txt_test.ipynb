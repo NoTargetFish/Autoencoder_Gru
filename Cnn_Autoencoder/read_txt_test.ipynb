{
 "cells": [
  {
   "cell_type": "code",
   "execution_count": 2,
   "metadata": {},
   "outputs": [],
   "source": [
    "import numpy as np"
   ]
  },
  {
   "cell_type": "code",
   "execution_count": 4,
   "metadata": {},
   "outputs": [],
   "source": [
    "    data = np.loadtxt('data/Car/Car_TRAIN_Order.txt', dtype=str, delimiter = ',')\n",
    "    data = data[:, 0: -1]  # 去掉最后一个label\n",
    "    truncate = np.int(np.floor((len(data[0]) - 1) / 8) * 8)\n",
    "    x = np.array(data[:, 0: truncate], dtype=np.float32)\n",
    "    y = np.array(data[:, 1: (truncate + 1)], dtype=np.float32)"
   ]
  },
  {
   "cell_type": "code",
   "execution_count": 6,
   "metadata": {},
   "outputs": [
    {
     "data": {
      "text/plain": [
       "(44, 568)"
      ]
     },
     "execution_count": 6,
     "metadata": {},
     "output_type": "execute_result"
    }
   ],
   "source": [
    "x.shape"
   ]
  },
  {
   "cell_type": "code",
   "execution_count": 10,
   "metadata": {},
   "outputs": [],
   "source": [
    "x = x.reshape(-1,4,568)"
   ]
  },
  {
   "cell_type": "code",
   "execution_count": 11,
   "metadata": {},
   "outputs": [
    {
     "data": {
      "text/plain": [
       "(11, 4, 568)"
      ]
     },
     "execution_count": 11,
     "metadata": {},
     "output_type": "execute_result"
    }
   ],
   "source": [
    "x.shape"
   ]
  },
  {
   "cell_type": "code",
   "execution_count": 14,
   "metadata": {},
   "outputs": [],
   "source": [
    "x = x.swapaxes(2,1)"
   ]
  },
  {
   "cell_type": "code",
   "execution_count": 15,
   "metadata": {},
   "outputs": [
    {
     "data": {
      "text/plain": [
       "(11, 568, 4)"
      ]
     },
     "execution_count": 15,
     "metadata": {},
     "output_type": "execute_result"
    }
   ],
   "source": [
    "x.shape"
   ]
  },
  {
   "cell_type": "code",
   "execution_count": 16,
   "metadata": {},
   "outputs": [
    {
     "data": {
      "text/plain": [
       "array([[[1.6541075, 1.551691 , 1.4388835, 1.7505689],\n",
       "        [1.6215818, 1.5173388, 1.4043308, 1.7104573],\n",
       "        [1.589211 , 1.4819928, 1.3693576, 1.670466 ],\n",
       "        ...,\n",
       "        [1.6394594, 1.3672272, 1.2597011, 1.4287235],\n",
       "        [1.6672722, 1.328102 , 1.2236723, 1.4589736],\n",
       "        [1.6757779, 1.31359  , 1.187999 , 1.493342 ]],\n",
       "\n",
       "       [[1.4956256, 1.7138076, 1.403571 , 1.5716585],\n",
       "        [1.4575344, 1.6751602, 1.3660738, 1.5338495],\n",
       "        [1.431099 , 1.6509107, 1.3285776, 1.4960408],\n",
       "        ...,\n",
       "        [1.285613 , 1.3421781, 1.169906 , 1.5698122],\n",
       "        [1.27303  , 1.3753891, 1.1656902, 1.5569998],\n",
       "        [1.2653095, 1.4086201, 1.1895677, 1.518027 ]],\n",
       "\n",
       "       [[1.6373415, 1.8182771, 1.757227 , 1.7413462],\n",
       "        [1.6041185, 1.7805071, 1.7214086, 1.7077438],\n",
       "        [1.5710232, 1.7430321, 1.6855905, 1.6705725],\n",
       "        ...,\n",
       "        [1.4290408, 1.4861577, 1.5418756, 1.41885  ],\n",
       "        [1.4258078, 1.51691  , 1.5755591, 1.4520805],\n",
       "        [1.4358097, 1.5515386, 1.6069281, 1.4853232]],\n",
       "\n",
       "       ...,\n",
       "\n",
       "       [[1.536995 , 1.4964615, 1.9586926, 1.6066922],\n",
       "        [1.5022764, 1.4598958, 1.9224576, 1.5686564],\n",
       "        [1.4675584, 1.4236429, 1.8813771, 1.5309829],\n",
       "        ...,\n",
       "        [1.2791888, 1.4780247, 1.7295887, 1.3324274],\n",
       "        [1.2618775, 1.4396939, 1.7693206, 1.3288599],\n",
       "        [1.2583636, 1.4365941, 1.8090676, 1.325728 ]],\n",
       "\n",
       "       [[1.7530355, 1.5957328, 1.6449978, 1.8328178],\n",
       "        [1.7217338, 1.5567646, 1.5962129, 1.796637 ],\n",
       "        [1.6904329, 1.5173965, 1.5518173, 1.7604619],\n",
       "        ...,\n",
       "        [1.7749585, 1.2362918, 1.294036 , 1.5812119],\n",
       "        [1.7725443, 1.2748644, 1.3348217, 1.5374669],\n",
       "        [1.7694997, 1.3134499, 1.3756282, 1.5237178]],\n",
       "\n",
       "       [[1.7030787, 1.5180725, 1.8206447, 1.561851 ],\n",
       "        [1.6707406, 1.4814959, 1.7783273, 1.5241579],\n",
       "        [1.6384068, 1.4454031, 1.7361867, 1.4987633],\n",
       "        ...,\n",
       "        [1.4872676, 1.5106013, 1.4236732, 1.2197363],\n",
       "        [1.5170398, 1.5087664, 1.4573555, 1.251988 ],\n",
       "        [1.5470979, 1.4699448, 1.4910594, 1.2823578]]], dtype=float32)"
      ]
     },
     "execution_count": 16,
     "metadata": {},
     "output_type": "execute_result"
    }
   ],
   "source": [
    "x"
   ]
  },
  {
   "cell_type": "code",
   "execution_count": 17,
   "metadata": {},
   "outputs": [],
   "source": [
    "x = x.reshape(x.shape[0],x.shape[1],x.shape[2],1)"
   ]
  },
  {
   "cell_type": "code",
   "execution_count": 19,
   "metadata": {},
   "outputs": [
    {
     "data": {
      "text/plain": [
       "(11, 568, 4, 1)"
      ]
     },
     "execution_count": 19,
     "metadata": {},
     "output_type": "execute_result"
    }
   ],
   "source": [
    "x.shape"
   ]
  },
  {
   "cell_type": "code",
   "execution_count": null,
   "metadata": {},
   "outputs": [],
   "source": []
  }
 ],
 "metadata": {
  "kernelspec": {
   "display_name": "Python 3",
   "language": "python",
   "name": "python3"
  },
  "language_info": {
   "codemirror_mode": {
    "name": "ipython",
    "version": 3
   },
   "file_extension": ".py",
   "mimetype": "text/x-python",
   "name": "python",
   "nbconvert_exporter": "python",
   "pygments_lexer": "ipython3",
   "version": "3.7.5"
  }
 },
 "nbformat": 4,
 "nbformat_minor": 2
}
